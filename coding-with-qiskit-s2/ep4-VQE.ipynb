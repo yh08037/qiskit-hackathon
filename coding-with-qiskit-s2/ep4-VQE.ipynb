{
 "metadata": {
  "language_info": {
   "codemirror_mode": {
    "name": "ipython",
    "version": 3
   },
   "file_extension": ".py",
   "mimetype": "text/x-python",
   "name": "python",
   "nbconvert_exporter": "python",
   "pygments_lexer": "ipython3",
   "version": "3.9.1-final"
  },
  "orig_nbformat": 2,
  "kernelspec": {
   "name": "python39164bitqiskitconda2ea1c557d4f340649a3d07f31bf925d0",
   "display_name": "Python 3.9.1 64-bit ('qiskit': conda)",
   "language": "python"
  }
 },
 "nbformat": 4,
 "nbformat_minor": 2,
 "cells": [
  {
   "source": [
    "# Variational Quantum Eigensolver\n",
    "We can use Variational Quantum Eigensolver for simulation of chemistry reaction.<br>\n",
    "VQE is an algorithm that makes use of the variational method used in quantum mechanics.<br>\n",
    "This means that we can estimate the ground state energy of a system<br>\n",
    "by making an educated guess of its wave function, which represents the molecole.<br>\n",
    "We then vary our wave function until we get minimum value of the ground state energy.<br>\n",
    "VQE is a hybrid algorithm which consists of both quantum part and classical part.<br>\n",
    "The quantum part computes the energy, and the classical part optimizes the variational parameter.<br>\n",
    "In this notebook, we use VQE to compute the interatomic distance that gives the lowest energy.<br>\n"
   ],
   "cell_type": "markdown",
   "metadata": {}
  },
  {
   "cell_type": "code",
   "execution_count": 1,
   "metadata": {},
   "outputs": [],
   "source": [
    "import numpy as np\n",
    "import pylab\n",
    "import copy\n",
    "from qiskit import BasicAer\n",
    "from qiskit.aqua import aqua_globals, QuantumInstance\n",
    "from qiskit.aqua.algorithms import NumPyMinimumEigensolver, VQE\n",
    "from qiskit.aqua.components.optimizers import SLSQP\n",
    "from qiskit.chemistry.components.initial_states import HartreeFock\n",
    "from qiskit.chemistry.components.variational_forms import UCCSD\n",
    "from qiskit.chemistry.drivers import PySCFDriver\n",
    "from qiskit.chemistry.core import Hamiltonian, QubitMappingType"
   ]
  },
  {
   "cell_type": "code",
   "execution_count": 2,
   "metadata": {},
   "outputs": [],
   "source": [
    "molecule = 'H .0 .0 -{0}; Li .0 .0 {0}'\n",
    "distances = np.arange(0.5, 4.25, 0.25)\n",
    "vqe_energies = []\n",
    "hf_energies = []\n",
    "exact_energies = []"
   ]
  },
  {
   "cell_type": "code",
   "execution_count": 3,
   "metadata": {},
   "outputs": [
    {
     "output_type": "stream",
     "name": "stdout",
     "text": [
      "step 0\n",
      "/home/dohun/anaconda3/envs/qiskit/lib/python3.9/site-packages/qiskit/chemistry/core/hamiltonian.py:91: DeprecationWarning: The ChemistryOperator is deprecated as of Qiskit Aqua 0.8.0 and will be removed no earlier than 3 months after the release date. Instead, the FermionicTransformation can be used to transform QMolecules and construct ground state result objects.\n",
      "  super().__init__()\n",
      "/home/dohun/anaconda3/envs/qiskit/lib/python3.9/site-packages/qiskit/chemistry/core/hamiltonian.py:415: DeprecationWarning: Processing a dictionary result is deprecated, pass a (minimum) eigensolver result now.\n",
      "  warnings.warn('Processing a dictionary result is deprecated,'\n"
     ]
    },
    {
     "output_type": "error",
     "ename": "TypeError",
     "evalue": "'NumPyMinimumEigensolver' object is not subscriptable",
     "traceback": [
      "\u001b[0;31m---------------------------------------------------------------------------\u001b[0m",
      "\u001b[0;31mTypeError\u001b[0m                                 Traceback (most recent call last)",
      "\u001b[0;32m<ipython-input-3-d428addf635e>\u001b[0m in \u001b[0;36m<module>\u001b[0;34m\u001b[0m\n\u001b[1;32m     12\u001b[0m     \u001b[0;31m# exact classical result\u001b[0m\u001b[0;34m\u001b[0m\u001b[0;34m\u001b[0m\u001b[0;34m\u001b[0m\u001b[0m\n\u001b[1;32m     13\u001b[0m     \u001b[0mexact_result\u001b[0m \u001b[0;34m=\u001b[0m \u001b[0mNumPyMinimumEigensolver\u001b[0m\u001b[0;34m(\u001b[0m\u001b[0mqubit_op\u001b[0m\u001b[0;34m,\u001b[0m \u001b[0maux_operators\u001b[0m\u001b[0;34m=\u001b[0m\u001b[0maux_ops\u001b[0m\u001b[0;34m)\u001b[0m\u001b[0;34m\u001b[0m\u001b[0;34m\u001b[0m\u001b[0m\n\u001b[0;32m---> 14\u001b[0;31m     \u001b[0mexact_result\u001b[0m \u001b[0;34m=\u001b[0m \u001b[0moperator\u001b[0m\u001b[0;34m.\u001b[0m\u001b[0mprocess_algorithm_result\u001b[0m\u001b[0;34m(\u001b[0m\u001b[0mexact_result\u001b[0m\u001b[0;34m)\u001b[0m\u001b[0;34m\u001b[0m\u001b[0;34m\u001b[0m\u001b[0m\n\u001b[0m\u001b[1;32m     15\u001b[0m \u001b[0;34m\u001b[0m\u001b[0m\n\u001b[1;32m     16\u001b[0m     \u001b[0;31m# VQE\u001b[0m\u001b[0;34m\u001b[0m\u001b[0;34m\u001b[0m\u001b[0;34m\u001b[0m\u001b[0m\n",
      "\u001b[0;32m~/anaconda3/envs/qiskit/lib/python3.9/site-packages/qiskit/chemistry/core/chemistry_operator.py\u001b[0m in \u001b[0;36mprocess_algorithm_result\u001b[0;34m(self, algo_result)\u001b[0m\n\u001b[1;32m     88\u001b[0m             \u001b[0;32mreturn\u001b[0m \u001b[0mself\u001b[0m\u001b[0;34m.\u001b[0m\u001b[0m_process_algorithm_result\u001b[0m\u001b[0;34m(\u001b[0m\u001b[0malgo_result\u001b[0m\u001b[0;34m)\u001b[0m\u001b[0;34m\u001b[0m\u001b[0;34m\u001b[0m\u001b[0m\n\u001b[1;32m     89\u001b[0m         \u001b[0;32melse\u001b[0m\u001b[0;34m:\u001b[0m\u001b[0;34m\u001b[0m\u001b[0;34m\u001b[0m\u001b[0m\n\u001b[0;32m---> 90\u001b[0;31m             \u001b[0mlines\u001b[0m\u001b[0;34m,\u001b[0m \u001b[0mresult\u001b[0m \u001b[0;34m=\u001b[0m \u001b[0mself\u001b[0m\u001b[0;34m.\u001b[0m\u001b[0m_process_algorithm_result\u001b[0m\u001b[0;34m(\u001b[0m\u001b[0malgo_result\u001b[0m\u001b[0;34m)\u001b[0m\u001b[0;34m\u001b[0m\u001b[0;34m\u001b[0m\u001b[0m\n\u001b[0m\u001b[1;32m     91\u001b[0m             \u001b[0mresult\u001b[0m\u001b[0;34m[\u001b[0m\u001b[0;34m'algorithm_retvals'\u001b[0m\u001b[0;34m]\u001b[0m \u001b[0;34m=\u001b[0m \u001b[0malgo_result\u001b[0m\u001b[0;34m\u001b[0m\u001b[0;34m\u001b[0m\u001b[0m\n\u001b[1;32m     92\u001b[0m             \u001b[0;32mreturn\u001b[0m \u001b[0mlines\u001b[0m\u001b[0;34m,\u001b[0m \u001b[0mresult\u001b[0m\u001b[0;34m\u001b[0m\u001b[0;34m\u001b[0m\u001b[0m\n",
      "\u001b[0;32m~/anaconda3/envs/qiskit/lib/python3.9/site-packages/qiskit/chemistry/core/hamiltonian.py\u001b[0m in \u001b[0;36m_process_algorithm_result\u001b[0;34m(self, algo_result)\u001b[0m\n\u001b[1;32m    374\u001b[0m             \u001b[0;31m# TODO return self._process_algorithm_result_excited_states(algo_result)\u001b[0m\u001b[0;34m\u001b[0m\u001b[0;34m\u001b[0m\u001b[0;34m\u001b[0m\u001b[0m\n\u001b[1;32m    375\u001b[0m         \u001b[0;32melse\u001b[0m\u001b[0;34m:\u001b[0m\u001b[0;34m\u001b[0m\u001b[0;34m\u001b[0m\u001b[0m\n\u001b[0;32m--> 376\u001b[0;31m             \u001b[0;32mreturn\u001b[0m \u001b[0mself\u001b[0m\u001b[0;34m.\u001b[0m\u001b[0m_process_algorithm_result_deprecated\u001b[0m\u001b[0;34m(\u001b[0m\u001b[0malgo_result\u001b[0m\u001b[0;34m)\u001b[0m\u001b[0;34m\u001b[0m\u001b[0;34m\u001b[0m\u001b[0m\n\u001b[0m\u001b[1;32m    377\u001b[0m \u001b[0;34m\u001b[0m\u001b[0m\n\u001b[1;32m    378\u001b[0m     \u001b[0;32mdef\u001b[0m \u001b[0m_process_algorithm_result_ground_state\u001b[0m\u001b[0;34m(\u001b[0m\u001b[0mself\u001b[0m\u001b[0;34m,\u001b[0m \u001b[0malgo_result\u001b[0m\u001b[0;34m:\u001b[0m \u001b[0mMinimumEigensolverResult\u001b[0m\u001b[0;34m)\u001b[0m\u001b[0;31m \u001b[0m\u001b[0;31m\\\u001b[0m\u001b[0;34m\u001b[0m\u001b[0;34m\u001b[0m\u001b[0m\n",
      "\u001b[0;32m~/anaconda3/envs/qiskit/lib/python3.9/site-packages/qiskit/chemistry/core/hamiltonian.py\u001b[0m in \u001b[0;36m_process_algorithm_result_deprecated\u001b[0;34m(self, algo_result)\u001b[0m\n\u001b[1;32m    419\u001b[0m \u001b[0;34m\u001b[0m\u001b[0m\n\u001b[1;32m    420\u001b[0m         \u001b[0;31m# Ground state energy\u001b[0m\u001b[0;34m\u001b[0m\u001b[0;34m\u001b[0m\u001b[0;34m\u001b[0m\u001b[0m\n\u001b[0;32m--> 421\u001b[0;31m         \u001b[0megse\u001b[0m \u001b[0;34m=\u001b[0m \u001b[0malgo_result\u001b[0m\u001b[0;34m[\u001b[0m\u001b[0;34m'energy'\u001b[0m\u001b[0;34m]\u001b[0m \u001b[0;34m+\u001b[0m \u001b[0mself\u001b[0m\u001b[0;34m.\u001b[0m\u001b[0m_energy_shift\u001b[0m \u001b[0;34m+\u001b[0m \u001b[0mself\u001b[0m\u001b[0;34m.\u001b[0m\u001b[0m_ph_energy_shift\u001b[0m\u001b[0;34m\u001b[0m\u001b[0;34m\u001b[0m\u001b[0m\n\u001b[0m\u001b[1;32m    422\u001b[0m         \u001b[0mresult\u001b[0m\u001b[0;34m[\u001b[0m\u001b[0;34m'energy'\u001b[0m\u001b[0;34m]\u001b[0m \u001b[0;34m=\u001b[0m \u001b[0megse\u001b[0m\u001b[0;34m\u001b[0m\u001b[0;34m\u001b[0m\u001b[0m\n\u001b[1;32m    423\u001b[0m         \u001b[0mlines\u001b[0m \u001b[0;34m=\u001b[0m \u001b[0;34m[\u001b[0m\u001b[0;34m'=== GROUND STATE ENERGY ==='\u001b[0m\u001b[0;34m]\u001b[0m\u001b[0;34m\u001b[0m\u001b[0;34m\u001b[0m\u001b[0m\n",
      "\u001b[0;31mTypeError\u001b[0m: 'NumPyMinimumEigensolver' object is not subscriptable"
     ]
    }
   ],
   "source": [
    "for i, d in enumerate(distances):\n",
    "    print('step', i)\n",
    "\n",
    "    # set up experiment\n",
    "    driver = PySCFDriver(molecule.format(d/2), basis='sto3g')\n",
    "    qmolecule = driver.run()\n",
    "    operator = Hamiltonian(qubit_mapping=QubitMappingType.PARITY,\n",
    "                           two_qubit_reduction=True, freeze_core=True,\n",
    "                           orbital_reduction=[-3, -2])\n",
    "    qubit_op, aux_ops = operator.run(qmolecule)\n",
    "\n",
    "    # exact classical result\n",
    "    exact_result = NumPyMinimumEigensolver(qubit_op, aux_operators=aux_ops)\n",
    "    exact_result = operator.process_algorithm_result(exact_result)\n",
    "\n",
    "    # VQE\n",
    "    optimizer = SLSQP(maxiter=1000)\n",
    "    initial_state = HartreeFock(operator.molecule_info['num_orbitals'],\n",
    "                                operator.molecule_info['num_particles'],\n",
    "                                qubit_mapping=operator._qubit_mapping,\n",
    "                                two_qubit_reduction=operator._two_qubit_reduction)\n",
    "    \n",
    "    var_form = UCCSD(num_orbitals=operator.molecule_info['num_orbitals'],\n",
    "                     num_particles=operator.molecule_info['num_particles'],\n",
    "                     initial_state=initial_state,\n",
    "                     qubit_mapping=operator._qubit_mapping,\n",
    "                     two_qubit_reduction=operator._two_qubit_reduction)\n",
    "    \n",
    "    algo = VQE(qubit_op, var_form, optimizer, aux_operators=aux_ops)\n",
    "\n",
    "    vqe_result = algo.run(QuantumInstance(BasicAer.get_backend('statevector_simulator')))\n",
    "    vqe_result = operator.process_algorithm_result(vqe_result)\n",
    "\n",
    "    exact_energies.append(exact_result.energy)\n",
    "    vqe_energies.append(vqe_result.energy)\n",
    "    hf_energies.append(vqe_result.hartree_fock_energy)"
   ]
  },
  {
   "cell_type": "code",
   "execution_count": null,
   "metadata": {},
   "outputs": [],
   "source": []
  }
 ]
}