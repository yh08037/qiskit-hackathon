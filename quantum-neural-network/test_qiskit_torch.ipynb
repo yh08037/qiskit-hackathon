{
 "metadata": {
  "language_info": {
   "codemirror_mode": {
    "name": "ipython",
    "version": 3
   },
   "file_extension": ".py",
   "mimetype": "text/x-python",
   "name": "python",
   "nbconvert_exporter": "python",
   "pygments_lexer": "ipython3",
   "version": "3.8.5-final"
  },
  "orig_nbformat": 2,
  "kernelspec": {
   "name": "python38564bitqistorchcondaf34eaa57ebe0452f9f874d428bc835e0",
   "display_name": "Python 3.8.5 64-bit ('qistorch': conda)",
   "language": "python"
  }
 },
 "nbformat": 4,
 "nbformat_minor": 2,
 "cells": [
  {
   "source": [
    "# Setting up environment\n",
    "## Prerequisites\n",
    "since numpy>=1.20.0 has bunch of deprecation,<br>\n",
    "the latest version of qiskit(0.23.5) no more supports numpy<=1.19.5<br>\n",
    "but in order to use pytorch 1.7.1, we have to set python<3.9<br>\n",
    "and it forces to use numpy 1.19.5, so we will get error if we run `import qiskit`.\n",
    "\n",
    "my successful environment was as follows.\n",
    "```\n",
    "conda create -n qistorch python=3.8\n",
    "conda activate qistorch\n",
    "\n",
    "pip install numpy==1.19.5\n",
    "pip install qiskit==1.23.4\n",
    "conda install pytorch torchvision torchaudio cudatoolkit=10.2 -c pytorch\n",
    "```"
   ],
   "cell_type": "markdown",
   "metadata": {}
  },
  {
   "cell_type": "code",
   "execution_count": 1,
   "metadata": {},
   "outputs": [
    {
     "output_type": "execute_result",
     "data": {
      "text/plain": [
       "'0.16.3'"
      ]
     },
     "metadata": {},
     "execution_count": 1
    }
   ],
   "source": [
    "import qiskit\n",
    "\n",
    "qiskit.__version__"
   ]
  },
  {
   "cell_type": "code",
   "execution_count": 2,
   "metadata": {},
   "outputs": [
    {
     "output_type": "execute_result",
     "data": {
      "text/plain": [
       "'1.7.1'"
      ]
     },
     "metadata": {},
     "execution_count": 2
    }
   ],
   "source": [
    "import torch\n",
    "\n",
    "torch.__version__"
   ]
  }
 ]
}